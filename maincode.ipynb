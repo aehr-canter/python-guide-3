{
  "nbformat": 4,
  "nbformat_minor": 0,
  "metadata": {
    "anaconda-cloud": {},
    "colab": {
      "provenance": []
    },
    "kernelspec": {
      "display_name": "Python_torch",
      "language": "python",
      "name": "pytorch36"
    },
    "language_info": {
      "codemirror_mode": {
        "name": "ipython",
        "version": 3
      },
      "file_extension": ".py",
      "mimetype": "text/x-python",
      "name": "python",
      "nbconvert_exporter": "python",
      "pygments_lexer": "ipython3",
      "version": "3.6.7"
    }
  },
  "cells": [
    {
      "cell_type": "code",
      "metadata": {
        "id": "p2-CSlkmNluw"
      },
      "source": [
        "# Run this every time you open the spreadsheet\n",
        "%load_ext autoreload\n",
        "%autoreload 2"
      ],
      "execution_count": null,
      "outputs": []
    },
    {
      "cell_type": "code",
      "metadata": {
        "id": "I5xo73cmIGNj",
        "colab": {
          "base_uri": "https://localhost:8080/"
        },
        "outputId": "b5f399eb-771a-4b30-d204-11c3e0836daa"
      },
      "source": [
        "! git clone https://github.com/heyyjudes/AI4ALL2021-NLP.git\n",
        "! mv AI4ALL2021-NLP/data .\n",
        "! mv AI4ALL2021-NLP/lib ."
      ],
      "execution_count": null,
      "outputs": [
        {
          "output_type": "stream",
          "name": "stdout",
          "text": [
            "Cloning into 'AI4ALL2021-NLP'...\n",
            "remote: Enumerating objects: 791, done.\u001b[K\n",
            "remote: Counting objects: 100% (294/294), done.\u001b[K\n",
            "remote: Compressing objects: 100% (159/159), done.\u001b[K\n",
            "remote: Total 791 (delta 134), reused 287 (delta 130), pack-reused 497\u001b[K\n",
            "Receiving objects: 100% (791/791), 53.14 MiB | 20.54 MiB/s, done.\n",
            "Resolving deltas: 100% (408/408), done.\n"
          ]
        }
      ]
    },
    {
      "cell_type": "markdown",
      "metadata": {
        "id": "bVz4p5rpBcok"
      },
      "source": [
        "Run the following cell to import our own lib module."
      ]
    },
    {
      "cell_type": "code",
      "metadata": {
        "id": "qBiqEPWGBSYF",
        "colab": {
          "base_uri": "https://localhost:8080/"
        },
        "outputId": "41e6525d-a2d9-4496-b427-8be61f095bd2"
      },
      "source": [
        "from lib.lib import *"
      ],
      "execution_count": null,
      "outputs": [
        {
          "output_type": "stream",
          "name": "stderr",
          "text": [
            "[nltk_data] Downloading package punkt to /root/nltk_data...\n",
            "[nltk_data]   Unzipping tokenizers/punkt.zip.\n"
          ]
        }
      ]
    },
    {
      "cell_type": "code",
      "source": [
        "! ls"
      ],
      "metadata": {
        "colab": {
          "base_uri": "https://localhost:8080/"
        },
        "id": "q2cFU1NSmMNh",
        "outputId": "89ed09a3-40ed-47b4-ebb4-caecab352d19"
      },
      "execution_count": null,
      "outputs": [
        {
          "output_type": "stream",
          "name": "stdout",
          "text": [
            "AI4ALL2021-NLP\tdata  lib  sample_data\n"
          ]
        }
      ]
    },
    {
      "cell_type": "markdown",
      "metadata": {
        "id": "2hx4au04Ew-k"
      },
      "source": [
        "# Load and inspect the data"
      ]
    },
    {
      "cell_type": "code",
      "metadata": {
        "id": "Fycp6AHEEw-l"
      },
      "source": [
        "# Load the data.\n",
        "# This function returns tweets and test_tweets, both lists of tweets\n",
        "\n",
        "tweets, test_tweets = read_data()"
      ],
      "execution_count": null,
      "outputs": []
    },
    {
      "cell_type": "markdown",
      "metadata": {
        "id": "XRj_qCb8OKtL"
      },
      "source": [
        "### Tweets from read_data()\n",
        "t.category: category tweet is in {\"None\", \"Food\", \"Water\", \"Energy\", \"Medical\"}  \n",
        "t.tokenList : list of words in the tweet  \n",
        "t.tokenSet: unique list of words in tweet    \n",
        "t.\\_bigramList: list of bigrams  \n",
        "t.\\_featureSet: list of all features (e.g. bigrams and unigrams)"
      ]
    },
    {
      "cell_type": "markdown",
      "metadata": {
        "collapsed": true,
        "id": "yhs9BbhvEw-w"
      },
      "source": [
        "# Learn a Naive Bayes classifier\n",
        "\n",
        "To construct our Naive Bayes classifier, we first need to calculate two things:\n",
        "\n",
        "### Prior probabilities of categories\n",
        "We need to calculate $P(C_i)$ for each category $C_i \\in \\{\\text{Energy}, \\text{Food}, \\text{Medical}, \\text{Water}, \\text{None}\\}$.\n",
        "\n",
        "We estimate $P(C_i)$ by $\\frac{\\text{# tweets about }C_i}{\\text{# tweets}}$\n",
        "\n",
        "### Conditional probabilities of tokens\n",
        "For each token (i.e. word) $x_j$ and each category $C_i$, we need to calculate $P(x_j|C_i)$.\n",
        "\n",
        "We estimate $P(x_j|C_i) = \\frac{P(x_j \\text{ and } C_i)}{P(C_i)}$ by $\\frac{\\text{# tweets about }C_i \\text{ containing }x_j}{\\text{# tweets about }C_i}$"
      ]
    },
    {
      "cell_type": "code",
      "metadata": {
        "id": "HTxLX4LuEw-x",
        "colab": {
          "base_uri": "https://localhost:8080/"
        },
        "outputId": "384c2e71-4bc2-4f45-9df9-816904146eff"
      },
      "source": [
        "# Exercise 1\n",
        "\n",
        "# The function below has two arguments: a list of tweets, and a category c\n",
        "# which is a string equal to one of \"Energy\", \"Food\", \"Medical\", \"Water\", \"None\".\n",
        "# The function should calculate the two things described above.\n",
        "# Fill in the blanks.\n",
        "\n",
        "\n",
        "def calc_probs(tweets, c):\n",
        "    \"\"\"\n",
        "    Input:\n",
        "        tweets: a list of tweets\n",
        "        c: a string representing a category; one of \"Energy\", \"Food\", \"Medical\", \"Water\", \"None\".\n",
        "    Returns:\n",
        "        prob_c: the prior probability of category c - P(c)\n",
        "        token_probs: a Counter mapping each token to P(token|category c) -\n",
        "    \"\"\"\n",
        "    ##### YOUR CODE HERE ####\n",
        "\n",
        "    # Step 1: Calculate the total number of tweets\n",
        "    num_tweets = len(tweets)\n",
        "    # Step 2: Calculate the number of tweets that are about category c.\n",
        "    # Save the answer to a variable called num_tweets_about_c.\n",
        "    # Remember c is a string, and you can get the category of a tweet via tweet.category\n",
        "    num_tweets_about_c = 0\n",
        "    for tweet in tweets:\n",
        "      if c == tweet.category:\n",
        "          num_tweets_about_c += 1\n",
        "\n",
        "    # Step 3: Calculate the probability of category c using the answers from Steps 1 and 2.\n",
        "    prob_c = num_tweets_about_c / num_tweets\n",
        "\n",
        "    # Step 4: Create an empty Counter called token_counts.\n",
        "    # (We will use it to map each token to the number of category-c tweets containing that token.)\n",
        "    token_counts= Counter()\n",
        "\n",
        "    # Step 5: Use a for-loop to iterate over the list of tweets.\n",
        "    # Use an if-statement to check whether the tweet is in category c.\n",
        "    # If it is, iterate over the tokens of the tweet (which you can access via tweet.tokenSet) using a for-loop.\n",
        "    # For each token, increment its count in token_counts.\n",
        "\n",
        "    for tweet in tweets:\n",
        "      if c == tweet.category:\n",
        "        for token in tweet.tokenSet:\n",
        "          token_counts[token] += 1\n",
        "\n",
        "    # Step 6: Create an empty Counter called token_probs.\n",
        "    token_probs = Counter()\n",
        "    # (We will use it to map each token to P(token | category c),\n",
        "    # i.e. the fraction of all category-c tweets that contain the token)\n",
        "\n",
        "\n",
        "    # Step 7: Now fill token_probs.\n",
        "    # For each token->count in token_counts, you want to add token->fraction to token_probs.\n",
        "    # Use a for-loop over token_counts.\n",
        "    # Remember that when you iterate over a dictionary/Counter, you access the keys.\n",
        "        # You'll need to use the variable num_tweets_about_c.\n",
        "    for token in token_counts.keys():\n",
        "\n",
        "        token_probs[token] += token_counts[token]/num_tweets_about_c\n",
        "    ##### END CODE HERE ####\n",
        "\n",
        "    print(\"Class {:s} has prior probability {:.2f}\".format(c, prob_c))\n",
        "\n",
        "    ##### EXERCISE STARTS HERE ####\n",
        "\n",
        "    # Write some code to nicely-print the top most common tokens for this category.\n",
        "    # Note that token_probs.most_common(10) gives you the 10 most common tokens in the counter,\n",
        "    # as a list of (token, probability) pairs. This is another convenient feature of Counters!\n",
        "\n",
        "    ##### EXERCISE ENDS HERE ####\n",
        "\n",
        "    return prob_c, token_probs\n",
        "\n",
        "\n",
        "prob_food, token_probs_food = calc_probs(tweets, \"Food\")\n",
        "prob_water, token_probs_water = calc_probs(tweets, \"Water\")\n",
        "prob_energy, token_probs_energy = calc_probs(tweets, \"Energy\")\n",
        "prob_medical, token_probs_medical = calc_probs(tweets, \"Medical\")\n",
        "prob_none, token_probs_none = calc_probs(tweets, \"None\")"
      ],
      "execution_count": null,
      "outputs": [
        {
          "output_type": "stream",
          "name": "stdout",
          "text": [
            "Class Food has prior probability 0.47\n",
            "Class Water has prior probability 0.09\n",
            "Class Energy has prior probability 0.12\n",
            "Class Medical has prior probability 0.04\n",
            "Class None has prior probability 0.28\n"
          ]
        }
      ]
    },
    {
      "cell_type": "markdown",
      "metadata": {
        "collapsed": true,
        "id": "EvlvGvP9Ew-5"
      },
      "source": [
        "### See what your model has learnt"
      ]
    },
    {
      "cell_type": "code",
      "metadata": {
        "id": "ZgdCiGL_Ew-7",
        "colab": {
          "base_uri": "https://localhost:8080/"
        },
        "outputId": "d459c8e2-9d48-467f-a7a8-f07d0448c69f"
      },
      "source": [
        "# For each category c, print out the tokens that maximize P(c|token)\n",
        "\n",
        "token_probs = {'Food': token_probs_food, 'Water': token_probs_water, 'Energy': token_probs_energy, 'Medical': token_probs_medical,'None': token_probs_none}\n",
        "prior_probs = {'Food': prob_food, 'Water': prob_water, 'Energy': prob_energy, 'Medical': prob_medical, 'None': prob_none}\n",
        "\n",
        "most_discriminative(tweets, token_probs, prior_probs)"
      ],
      "execution_count": null,
      "outputs": [
        {
          "output_type": "stream",
          "name": "stdout",
          "text": [
            "MOST DISCRIMINATIVE TOKENS: \n",
            "\n",
            "TOKEN                P(Energy|token)\n",
            "b'dark'              0.8029\n",
            "b'powers'            0.8029\n",
            "b'generator'         0.7654\n",
            "b'batteries'         0.7559\n",
            "b'class'             0.7534\n",
            "b'sandysucks'        0.7534\n",
            "b'flashlights'       0.7455\n",
            "b'masks'             0.7334\n",
            "b'11/3'              0.6736\n",
            "b'90'                0.6707\n",
            "\n",
            "TOKEN                P(Food|token)\n",
            "b'canned'            0.9784\n",
            "b'non-perishable'    0.9771\n",
            "b'serve'             0.9663\n",
            "b'perishable'        0.9562\n",
            "b'cook'              0.9511\n",
            "b'soup'              0.9489\n",
            "b'sandwiches'        0.9489\n",
            "b'thanksgiving'      0.9441\n",
            "b'rice'              0.9441\n",
            "b'pasta'             0.9383\n",
            "\n",
            "TOKEN                P(Medical|token)\n",
            "b'meds'              0.8229\n",
            "b'aid'               0.8008\n",
            "b'4t-5t'             0.7360\n",
            "b'medicine'          0.7360\n",
            "b'medications'       0.7360\n",
            "b'ups'               0.7360\n",
            "b'ointment'          0.7360\n",
            "b'prescription'      0.7360\n",
            "b'pull'              0.6596\n",
            "b'kits'              0.6596\n",
            "\n",
            "TOKEN                P(None|token)\n",
            "b'everyone'          0.8955\n",
            "b'last'              0.8809\n",
            "b'feel'              0.8809\n",
            "b'im'                0.8618\n",
            "b'irene'             0.8604\n",
            "b'...'               0.8601\n",
            "b'away'              0.8451\n",
            "b'..'                0.8340\n",
            "b'thing'             0.8314\n",
            "b'atlantic'          0.8314\n",
            "\n",
            "TOKEN                P(Water|token)\n",
            "b'bottled'           0.9059\n",
            "b'gallon'            0.8307\n",
            "b'jugs'              0.7970\n",
            "b'water'             0.7823\n",
            "b'gallons'           0.7266\n",
            "b'feet'              0.6625\n",
            "b'parks'             0.6625\n",
            "b'liter'             0.6625\n",
            "b'spring'            0.6625\n",
            "b'flood'             0.6625\n",
            "\n"
          ]
        }
      ]
    },
    {
      "cell_type": "markdown",
      "metadata": {
        "id": "yVpz9YqPEw_B"
      },
      "source": [
        "# Build a Naive Bayes classifier\n",
        "\n",
        "Now we've calculated $P(C_i)$ and $P(x_j|C_i)$, we can classify any tweet!\n",
        "\n",
        "Given a tweet which is a set of tokens $\\{x_1,...,x_n\\}$, the posterior probability of each category $C_i$ is\n",
        "\n",
        "$P(C_i | x_1,...,x_n) \\propto P(C_i) \\times P(x_1|C_i) \\times P(x_2|C_i) ... \\times P(x_n|C_i)$\n",
        "\n",
        "We just need to calculate this for each category then determine which is largest."
      ]
    },
    {
      "cell_type": "code",
      "metadata": {
        "id": "515jRdXUEw_C"
      },
      "source": [
        "# Exercise 2.1\n",
        "\n",
        "# Complete this function that calculates the posterior probability of P(c|tweet).\n",
        "\n",
        "def get_posterior_prob_attempt(tweet, prob_c, token_probs):\n",
        "    \"\"\"Calculate the posterior P(c|tweet).\n",
        "    (Actually, calculate something proportional to it).\n",
        "\n",
        "    Inputs:\n",
        "        tweet: a tweet\n",
        "        prob_c: the prior probability of category c\n",
        "        token_probs: a Counter mapping each token P(token|c)\n",
        "    Return:\n",
        "        The posterior P(c|tweet).\n",
        "    \"\"\"\n",
        "\n",
        "    ##### YOUR CODE STARTS HERE #####\n",
        "\n",
        "    # Hint: first set posterior to prob_c, then use a for-loop over tweet.tokenSet\n",
        "    # to repeatedly multiply posterior by P(token|c)\n",
        "    posterior = prob_c\n",
        "    for num in tweet.tokenSet:\n",
        "      posterior *= token_probs[num]\n",
        "\n",
        "    ##### YOUR CODE ENDS HERE #####\n",
        "\n",
        "    return posterior"
      ],
      "execution_count": null,
      "outputs": []
    },
    {
      "cell_type": "code",
      "metadata": {
        "id": "dx6MHABYEw_K",
        "colab": {
          "base_uri": "https://localhost:8080/"
        },
        "outputId": "10db5e55-4b50-4842-d1a7-60c9a2051e66"
      },
      "source": [
        "# Now you've written the function, look at the output for P(Energy|\"No power in Riverdale\").\n",
        "riverdale_tweet = Tweet(\"No power in Riverdale\", \"Energy\", \"need\")\n",
        "print(\"P(Energy|'No power in Riverdale') = \", get_posterior_prob_attempt(riverdale_tweet, prob_energy, token_probs_energy))"
      ],
      "execution_count": null,
      "outputs": [
        {
          "output_type": "stream",
          "name": "stdout",
          "text": [
            "P(Energy|'No power in Riverdale') =  0.0\n"
          ]
        }
      ]
    },
    {
      "cell_type": "markdown",
      "metadata": {
        "id": "4NTXmKcSEw_P"
      },
      "source": [
        "What's gone wrong?\n",
        "\n",
        "Try editing your function above to print out each `token` and `token_probs[token]`.\n",
        "\n",
        "Can you see what went wrong? How might you fix it?"
      ]
    },
    {
      "cell_type": "code",
      "metadata": {
        "id": "F6ssXuPlEw_Q"
      },
      "source": [
        "# Exercise 2.2\n",
        "\n",
        "# Copy your solution to exercise 2.1 here and make the fix we discussed in the previous cell\n",
        "\n",
        "def get_posterior_prob(tweet, prob_c, token_probs):\n",
        "    \"\"\"Calculate the posterior P(c|tweet).\n",
        "    (Actually, calculate something proportional to it).\n",
        "\n",
        "    Inputs:\n",
        "        tweet: a tweet\n",
        "        prob_c: the prior probability of category c\n",
        "        token_probs: a Counter mapping each token P(token|c)\n",
        "    Return:\n",
        "        The posterior P(c|tweet).\n",
        "    \"\"\"\n",
        "\n",
        "    ##### YOUR CODE STARTS HERE #####\n",
        "\n",
        "    # Hint 1: first set posterior to prob_c, then use a for-loop over tweet.tokenSet\n",
        "    # to repeatedly multiply posterior by P(token|c)\n",
        "    # Hint 2: what happens when you multiply by 0\n",
        "    posterior = prob_c\n",
        "    for token in tweet.tokenSet:\n",
        "      if token not in token_probs.keys():\n",
        "        posterior *= 0.001\n",
        "      else:\n",
        "        posterior *= token_probs[token]\n",
        "\n",
        "\n",
        "    ##### YOUR CODE ENDS HERE #####\n",
        "\n",
        "    return posterior"
      ],
      "execution_count": null,
      "outputs": []
    },
    {
      "cell_type": "code",
      "metadata": {
        "id": "RpuGt6G9Ew_V",
        "colab": {
          "base_uri": "https://localhost:8080/"
        },
        "outputId": "4f371592-9002-4b2b-8d56-ddad9d2639de"
      },
      "source": [
        "# Try out our new function\n",
        "riverdale_tweet = Tweet(\"No power in Riverdale\", \"Energy\", \"need\")\n",
        "print(\"P(Energy|'No power in Riverdale') = \", get_posterior_prob(riverdale_tweet, prob_energy, token_probs_energy))\n",
        "\n",
        "# double check if we don't have zero probability words it is still fine\n",
        "riverdale_tweet = Tweet(\"No power\", \"Energy\", \"need\")\n",
        "print(\"P(Energy|'No power') = \", get_posterior_prob_attempt(riverdale_tweet, prob_energy, token_probs_energy))"
      ],
      "execution_count": null,
      "outputs": [
        {
          "output_type": "stream",
          "name": "stdout",
          "text": [
            "P(Energy|'No power in Riverdale') =  2.8060018903591684e-06\n",
            "P(Energy|'No power') =  0.00921972049689441\n"
          ]
        }
      ]
    },
    {
      "cell_type": "code",
      "metadata": {
        "id": "B18ZOAIXEw_b"
      },
      "source": [
        "# This cell defines the classification function, that takes a tweet\n",
        "# and decides which category is most likely using the posteriors you just calculated.\n",
        "\n",
        "\n",
        "# OPTIONAL EXERCISE (come back to it once you've reached the end of the notebook).\n",
        "# Rewrite this function to be less repetitive i.e. don't repeat things 5 times.\n",
        "# There are several possible solutions; you might want to use lists or dictionaries.\n",
        "# You might also want to rewrite the earlier code that computed prob_food, token_probs_food etc.\n",
        "\n",
        "\n",
        "def classify_nb(tweet):\n",
        "    \"\"\"Classifies a tweet. Calculates the posterior P(c|tweet) for each category c,\n",
        "    and returns the category with largest posterior.\n",
        "    Input:\n",
        "        tweet\n",
        "    Output:\n",
        "        string equal to most-likely category for this tweet\n",
        "    \"\"\"\n",
        "    ##### YOUR CODE STARTS HERE #####\n",
        "    # Hint 1: get posterior probability using the function you just wrote for: food, water, energy, medical and none\n",
        "    posterior_food_prob = get_posterior_prob(tweet, prob_food, token_probs_food)\n",
        "    posterior_water_prob = get_posterior_prob(tweet, prob_water, token_probs_water)\n",
        "    posterior_energy_prob = get_posterior_prob(tweet, prob_energy, token_probs_energy)\n",
        "    posterior_medical_prob = get_posterior_prob(tweet, prob_medical, token_probs_medical)\n",
        "    posterior_none_prob = get_posterior_prob(tweet, prob_none, token_probs_none)\n",
        "\n",
        "    # Hint 2: find max posterior probability of all the probabilities you just found\n",
        "    max_posterior = max([posterior_food_prob, posterior_water_prob, posterior_energy_prob, posterior_medical_prob, posterior_none_prob])\n",
        "\n",
        "    # Hint 3: output the probability that corresponds to the maximum posterior probability\n",
        "    if posterior_food_prob == max_posterior:\n",
        "        return 'Food'\n",
        "    elif posterior_water_prob == max_posterior:\n",
        "        return 'Water'\n",
        "    elif posterior_energy_prob == max_posterior:\n",
        "        return 'Energy'\n",
        "    elif posterior_medical_prob == max_posterior:\n",
        "        return 'Medical'\n",
        "    else:\n",
        "        return 'None'\n",
        "\n",
        "\n",
        "    ##### YOUR CODE ENDS HERE #####"
      ],
      "execution_count": null,
      "outputs": []
    },
    {
      "cell_type": "markdown",
      "metadata": {
        "id": "jLepCwYKEw_f"
      },
      "source": [
        "## Evaluate the Naive Bayes classifier"
      ]
    },
    {
      "cell_type": "code",
      "metadata": {
        "id": "3-XEXinGEw_h",
        "colab": {
          "base_uri": "https://localhost:8080/",
          "height": 1000
        },
        "outputId": "7a272fa3-1539-4eab-92f3-4fd163b27f22"
      },
      "source": [
        "# Compare true labels and predicted labels in a table\n",
        "\n",
        "predictions = [(tweet, classify_nb(tweet)) for tweet in test_tweets] # a list of (tweet, prediction) pairs\n",
        "show_predictions(predictions)"
      ],
      "execution_count": null,
      "outputs": [
        {
          "output_type": "stream",
          "name": "stderr",
          "text": [
            "/content/lib/lib.py:251: FutureWarning: Passing a negative integer is deprecated in version 1.0 and will not be supported in future version. Instead, use None to not limit the column width.\n",
            "  pandas.set_option('display.max_colwidth', -1)\n",
            "/content/lib/lib.py:255: FutureWarning: this method is deprecated in favour of `Styler.to_html()`\n",
            "  display(HTML(s.render()))\n"
          ]
        },
        {
          "output_type": "display_data",
          "data": {
            "text/plain": [
              "<IPython.core.display.HTML object>"
            ],
            "text/html": [
              "<style type=\"text/css\">\n",
              "#T_f9450_row0_col0, #T_f9450_row1_col0, #T_f9450_row2_col0, #T_f9450_row3_col0, #T_f9450_row4_col0, #T_f9450_row5_col0, #T_f9450_row6_col0, #T_f9450_row7_col0, #T_f9450_row8_col0, #T_f9450_row9_col0, #T_f9450_row10_col0, #T_f9450_row11_col0, #T_f9450_row12_col0, #T_f9450_row13_col0, #T_f9450_row14_col0, #T_f9450_row15_col0, #T_f9450_row16_col0, #T_f9450_row17_col0, #T_f9450_row18_col0, #T_f9450_row19_col0, #T_f9450_row20_col0, #T_f9450_row21_col0, #T_f9450_row22_col0, #T_f9450_row23_col0, #T_f9450_row24_col0, #T_f9450_row25_col0, #T_f9450_row26_col0, #T_f9450_row27_col0, #T_f9450_row28_col0, #T_f9450_row29_col0, #T_f9450_row30_col0, #T_f9450_row31_col0, #T_f9450_row32_col0, #T_f9450_row33_col0, #T_f9450_row34_col0, #T_f9450_row35_col0, #T_f9450_row36_col0, #T_f9450_row37_col0, #T_f9450_row38_col0, #T_f9450_row39_col0, #T_f9450_row40_col0, #T_f9450_row41_col0, #T_f9450_row42_col0, #T_f9450_row43_col0, #T_f9450_row44_col0, #T_f9450_row45_col0, #T_f9450_row46_col0, #T_f9450_row47_col0, #T_f9450_row48_col0, #T_f9450_row49_col0, #T_f9450_row50_col0, #T_f9450_row51_col0, #T_f9450_row52_col0, #T_f9450_row53_col0, #T_f9450_row54_col0, #T_f9450_row55_col0, #T_f9450_row56_col0, #T_f9450_row57_col0, #T_f9450_row58_col0, #T_f9450_row59_col0, #T_f9450_row60_col0, #T_f9450_row61_col0, #T_f9450_row62_col0, #T_f9450_row63_col0, #T_f9450_row64_col0, #T_f9450_row65_col0, #T_f9450_row66_col0, #T_f9450_row67_col0, #T_f9450_row68_col0, #T_f9450_row69_col0, #T_f9450_row70_col0, #T_f9450_row71_col0, #T_f9450_row72_col0, #T_f9450_row73_col0, #T_f9450_row74_col0, #T_f9450_row75_col0, #T_f9450_row76_col0, #T_f9450_row77_col0, #T_f9450_row78_col0, #T_f9450_row79_col0, #T_f9450_row80_col0, #T_f9450_row81_col0, #T_f9450_row82_col0, #T_f9450_row83_col0, #T_f9450_row84_col0, #T_f9450_row85_col0, #T_f9450_row86_col0, #T_f9450_row87_col0, #T_f9450_row88_col0, #T_f9450_row89_col0, #T_f9450_row90_col0, #T_f9450_row91_col0, #T_f9450_row92_col0, #T_f9450_row93_col0, #T_f9450_row94_col0, #T_f9450_row95_col0, #T_f9450_row96_col0, #T_f9450_row97_col0, #T_f9450_row98_col0, #T_f9450_row99_col0, #T_f9450_row100_col0, #T_f9450_row101_col0, #T_f9450_row102_col0, #T_f9450_row103_col0, #T_f9450_row104_col0, #T_f9450_row105_col0, #T_f9450_row106_col0, #T_f9450_row107_col0, #T_f9450_row108_col0, #T_f9450_row109_col0, #T_f9450_row110_col0, #T_f9450_row111_col0, #T_f9450_row112_col0, #T_f9450_row113_col0, #T_f9450_row114_col0, #T_f9450_row115_col0, #T_f9450_row116_col0, #T_f9450_row117_col0, #T_f9450_row118_col0, #T_f9450_row119_col0, #T_f9450_row120_col0, #T_f9450_row121_col0, #T_f9450_row122_col0, #T_f9450_row123_col0, #T_f9450_row124_col0, #T_f9450_row125_col0, #T_f9450_row126_col0, #T_f9450_row127_col0, #T_f9450_row128_col0, #T_f9450_row129_col0, #T_f9450_row130_col0, #T_f9450_row131_col0, #T_f9450_row132_col0, #T_f9450_row133_col0, #T_f9450_row134_col0, #T_f9450_row135_col0, #T_f9450_row136_col0, #T_f9450_row137_col0, #T_f9450_row138_col0, #T_f9450_row139_col0, #T_f9450_row140_col0, #T_f9450_row141_col0, #T_f9450_row142_col0, #T_f9450_row143_col0, #T_f9450_row144_col0, #T_f9450_row145_col0, #T_f9450_row146_col0, #T_f9450_row147_col0, #T_f9450_row148_col0, #T_f9450_row149_col0, #T_f9450_row150_col0, #T_f9450_row151_col0, #T_f9450_row152_col0, #T_f9450_row153_col0, #T_f9450_row154_col0, #T_f9450_row155_col0, #T_f9450_row156_col0, #T_f9450_row157_col0, #T_f9450_row158_col0, #T_f9450_row159_col0, #T_f9450_row160_col0, #T_f9450_row161_col0, #T_f9450_row162_col0, #T_f9450_row163_col0, #T_f9450_row164_col0, #T_f9450_row165_col0, #T_f9450_row166_col0, #T_f9450_row167_col0, #T_f9450_row168_col0, #T_f9450_row169_col0, #T_f9450_row170_col0, #T_f9450_row171_col0, #T_f9450_row172_col0, #T_f9450_row173_col0, #T_f9450_row174_col0, #T_f9450_row175_col0, #T_f9450_row176_col0, #T_f9450_row177_col0, #T_f9450_row178_col0, #T_f9450_row179_col0, #T_f9450_row180_col0, #T_f9450_row181_col0, #T_f9450_row182_col0, #T_f9450_row183_col0, #T_f9450_row184_col0, #T_f9450_row185_col0, #T_f9450_row186_col0, #T_f9450_row187_col0, #T_f9450_row188_col0, #T_f9450_row189_col0, #T_f9450_row190_col0, #T_f9450_row191_col0, #T_f9450_row192_col0, #T_f9450_row193_col0, #T_f9450_row194_col0, #T_f9450_row195_col0, #T_f9450_row196_col0, #T_f9450_row197_col0, #T_f9450_row198_col0, #T_f9450_row199_col0, #T_f9450_row200_col0, #T_f9450_row201_col0, #T_f9450_row202_col0, #T_f9450_row203_col0, #T_f9450_row204_col0, #T_f9450_row205_col0, #T_f9450_row206_col0, #T_f9450_row207_col0, #T_f9450_row208_col0, #T_f9450_row209_col0, #T_f9450_row210_col0, #T_f9450_row211_col0, #T_f9450_row212_col0, #T_f9450_row213_col0, #T_f9450_row214_col0, #T_f9450_row215_col0, #T_f9450_row216_col0, #T_f9450_row217_col0, #T_f9450_row218_col0, #T_f9450_row219_col0, #T_f9450_row220_col0, #T_f9450_row221_col0, #T_f9450_row222_col0, #T_f9450_row223_col0, #T_f9450_row224_col0, #T_f9450_row225_col0, #T_f9450_row226_col0, #T_f9450_row227_col0, #T_f9450_row228_col0, #T_f9450_row229_col0, #T_f9450_row230_col0, #T_f9450_row231_col0, #T_f9450_row232_col0, #T_f9450_row233_col0, #T_f9450_row234_col0, #T_f9450_row235_col0, #T_f9450_row236_col0, #T_f9450_row237_col0, #T_f9450_row238_col0, #T_f9450_row239_col0, #T_f9450_row240_col0, #T_f9450_row241_col0, #T_f9450_row242_col0, #T_f9450_row243_col0, #T_f9450_row244_col0, #T_f9450_row245_col0, #T_f9450_row246_col0, #T_f9450_row247_col0, #T_f9450_row248_col0, #T_f9450_row249_col0, #T_f9450_row250_col0, #T_f9450_row251_col0, #T_f9450_row252_col0, #T_f9450_row253_col0, #T_f9450_row254_col0, #T_f9450_row255_col0, #T_f9450_row256_col0, #T_f9450_row257_col0, #T_f9450_row258_col0, #T_f9450_row259_col0, #T_f9450_row260_col0, #T_f9450_row261_col0, #T_f9450_row262_col0, #T_f9450_row263_col0, #T_f9450_row264_col0, #T_f9450_row265_col0, #T_f9450_row266_col0, #T_f9450_row267_col0, #T_f9450_row268_col0, #T_f9450_row269_col0, #T_f9450_row270_col0, #T_f9450_row271_col0, #T_f9450_row272_col0, #T_f9450_row273_col0, #T_f9450_row274_col0, #T_f9450_row275_col0, #T_f9450_row276_col0, #T_f9450_row277_col0, #T_f9450_row278_col0, #T_f9450_row279_col0, #T_f9450_row280_col0 {\n",
              "  color: black;\n",
              "  text-align: left;\n",
              "}\n",
              "#T_f9450_row0_col1, #T_f9450_row0_col2, #T_f9450_row2_col1, #T_f9450_row4_col1, #T_f9450_row4_col2, #T_f9450_row5_col1, #T_f9450_row5_col2, #T_f9450_row6_col1, #T_f9450_row6_col2, #T_f9450_row8_col1, #T_f9450_row8_col2, #T_f9450_row10_col1, #T_f9450_row10_col2, #T_f9450_row11_col2, #T_f9450_row13_col1, #T_f9450_row13_col2, #T_f9450_row14_col1, #T_f9450_row14_col2, #T_f9450_row15_col1, #T_f9450_row15_col2, #T_f9450_row17_col1, #T_f9450_row17_col2, #T_f9450_row20_col1, #T_f9450_row20_col2, #T_f9450_row24_col2, #T_f9450_row29_col2, #T_f9450_row30_col1, #T_f9450_row30_col2, #T_f9450_row36_col1, #T_f9450_row36_col2, #T_f9450_row37_col1, #T_f9450_row37_col2, #T_f9450_row40_col1, #T_f9450_row40_col2, #T_f9450_row41_col1, #T_f9450_row41_col2, #T_f9450_row45_col1, #T_f9450_row45_col2, #T_f9450_row46_col1, #T_f9450_row46_col2, #T_f9450_row47_col1, #T_f9450_row47_col2, #T_f9450_row49_col1, #T_f9450_row49_col2, #T_f9450_row53_col1, #T_f9450_row53_col2, #T_f9450_row54_col1, #T_f9450_row54_col2, #T_f9450_row55_col2, #T_f9450_row57_col1, #T_f9450_row57_col2, #T_f9450_row60_col1, #T_f9450_row60_col2, #T_f9450_row64_col1, #T_f9450_row64_col2, #T_f9450_row66_col1, #T_f9450_row66_col2, #T_f9450_row68_col1, #T_f9450_row68_col2, #T_f9450_row70_col1, #T_f9450_row70_col2, #T_f9450_row73_col1, #T_f9450_row73_col2, #T_f9450_row74_col1, #T_f9450_row74_col2, #T_f9450_row75_col1, #T_f9450_row75_col2, #T_f9450_row76_col2, #T_f9450_row77_col1, #T_f9450_row78_col1, #T_f9450_row78_col2, #T_f9450_row79_col1, #T_f9450_row79_col2, #T_f9450_row81_col1, #T_f9450_row81_col2, #T_f9450_row84_col1, #T_f9450_row84_col2, #T_f9450_row87_col1, #T_f9450_row87_col2, #T_f9450_row88_col1, #T_f9450_row88_col2, #T_f9450_row90_col1, #T_f9450_row90_col2, #T_f9450_row95_col1, #T_f9450_row95_col2, #T_f9450_row96_col1, #T_f9450_row96_col2, #T_f9450_row98_col1, #T_f9450_row98_col2, #T_f9450_row100_col1, #T_f9450_row100_col2, #T_f9450_row101_col1, #T_f9450_row101_col2, #T_f9450_row102_col1, #T_f9450_row102_col2, #T_f9450_row103_col2, #T_f9450_row105_col1, #T_f9450_row105_col2, #T_f9450_row106_col1, #T_f9450_row106_col2, #T_f9450_row107_col2, #T_f9450_row108_col1, #T_f9450_row108_col2, #T_f9450_row109_col1, #T_f9450_row109_col2, #T_f9450_row111_col1, #T_f9450_row111_col2, #T_f9450_row112_col1, #T_f9450_row112_col2, #T_f9450_row113_col1, #T_f9450_row113_col2, #T_f9450_row114_col1, #T_f9450_row114_col2, #T_f9450_row117_col2, #T_f9450_row119_col1, #T_f9450_row119_col2, #T_f9450_row122_col1, #T_f9450_row122_col2, #T_f9450_row123_col1, #T_f9450_row123_col2, #T_f9450_row125_col1, #T_f9450_row125_col2, #T_f9450_row126_col1, #T_f9450_row127_col1, #T_f9450_row127_col2, #T_f9450_row131_col1, #T_f9450_row131_col2, #T_f9450_row132_col1, #T_f9450_row132_col2, #T_f9450_row134_col2, #T_f9450_row135_col2, #T_f9450_row140_col1, #T_f9450_row140_col2, #T_f9450_row141_col2, #T_f9450_row142_col2, #T_f9450_row143_col1, #T_f9450_row143_col2, #T_f9450_row144_col1, #T_f9450_row144_col2, #T_f9450_row145_col2, #T_f9450_row146_col1, #T_f9450_row146_col2, #T_f9450_row148_col1, #T_f9450_row148_col2, #T_f9450_row149_col2, #T_f9450_row150_col2, #T_f9450_row151_col2, #T_f9450_row152_col2, #T_f9450_row154_col1, #T_f9450_row154_col2, #T_f9450_row155_col2, #T_f9450_row156_col1, #T_f9450_row156_col2, #T_f9450_row158_col2, #T_f9450_row159_col1, #T_f9450_row159_col2, #T_f9450_row160_col1, #T_f9450_row160_col2, #T_f9450_row161_col1, #T_f9450_row161_col2, #T_f9450_row163_col1, #T_f9450_row165_col1, #T_f9450_row165_col2, #T_f9450_row168_col1, #T_f9450_row168_col2, #T_f9450_row169_col1, #T_f9450_row169_col2, #T_f9450_row170_col1, #T_f9450_row170_col2, #T_f9450_row171_col1, #T_f9450_row172_col1, #T_f9450_row172_col2, #T_f9450_row173_col1, #T_f9450_row173_col2, #T_f9450_row174_col1, #T_f9450_row174_col2, #T_f9450_row176_col1, #T_f9450_row176_col2, #T_f9450_row179_col1, #T_f9450_row179_col2, #T_f9450_row180_col1, #T_f9450_row180_col2, #T_f9450_row182_col1, #T_f9450_row184_col1, #T_f9450_row184_col2, #T_f9450_row185_col2, #T_f9450_row186_col1, #T_f9450_row186_col2, #T_f9450_row187_col1, #T_f9450_row187_col2, #T_f9450_row189_col1, #T_f9450_row189_col2, #T_f9450_row191_col1, #T_f9450_row191_col2, #T_f9450_row198_col2, #T_f9450_row200_col1, #T_f9450_row200_col2, #T_f9450_row201_col1, #T_f9450_row201_col2, #T_f9450_row202_col1, #T_f9450_row202_col2, #T_f9450_row204_col1, #T_f9450_row204_col2, #T_f9450_row207_col1, #T_f9450_row207_col2, #T_f9450_row208_col1, #T_f9450_row208_col2, #T_f9450_row209_col1, #T_f9450_row209_col2, #T_f9450_row212_col1, #T_f9450_row212_col2, #T_f9450_row213_col1, #T_f9450_row213_col2, #T_f9450_row216_col1, #T_f9450_row216_col2, #T_f9450_row217_col1, #T_f9450_row217_col2, #T_f9450_row219_col1, #T_f9450_row219_col2, #T_f9450_row220_col2, #T_f9450_row226_col1, #T_f9450_row226_col2, #T_f9450_row227_col1, #T_f9450_row227_col2, #T_f9450_row228_col1, #T_f9450_row228_col2, #T_f9450_row230_col1, #T_f9450_row230_col2, #T_f9450_row233_col1, #T_f9450_row233_col2, #T_f9450_row234_col1, #T_f9450_row234_col2, #T_f9450_row236_col1, #T_f9450_row236_col2, #T_f9450_row237_col1, #T_f9450_row237_col2, #T_f9450_row238_col1, #T_f9450_row238_col2, #T_f9450_row241_col1, #T_f9450_row241_col2, #T_f9450_row242_col2, #T_f9450_row245_col2, #T_f9450_row249_col1, #T_f9450_row249_col2, #T_f9450_row250_col1, #T_f9450_row250_col2, #T_f9450_row251_col1, #T_f9450_row251_col2, #T_f9450_row252_col1, #T_f9450_row252_col2, #T_f9450_row256_col1, #T_f9450_row256_col2, #T_f9450_row257_col1, #T_f9450_row257_col2, #T_f9450_row258_col1, #T_f9450_row259_col1, #T_f9450_row259_col2, #T_f9450_row260_col1, #T_f9450_row260_col2, #T_f9450_row264_col1, #T_f9450_row264_col2, #T_f9450_row269_col2, #T_f9450_row271_col1, #T_f9450_row271_col2, #T_f9450_row272_col1, #T_f9450_row272_col2, #T_f9450_row274_col1, #T_f9450_row274_col2, #T_f9450_row275_col1, #T_f9450_row275_col2, #T_f9450_row276_col1, #T_f9450_row276_col2, #T_f9450_row279_col1, #T_f9450_row279_col2, #T_f9450_row280_col1, #T_f9450_row280_col2 {\n",
              "  color: orange;\n",
              "  text-align: left;\n",
              "}\n",
              "#T_f9450_row1_col1, #T_f9450_row1_col2, #T_f9450_row9_col1, #T_f9450_row19_col1, #T_f9450_row19_col2, #T_f9450_row25_col2, #T_f9450_row26_col1, #T_f9450_row28_col1, #T_f9450_row28_col2, #T_f9450_row32_col1, #T_f9450_row33_col2, #T_f9450_row34_col2, #T_f9450_row38_col1, #T_f9450_row38_col2, #T_f9450_row48_col2, #T_f9450_row50_col1, #T_f9450_row50_col2, #T_f9450_row52_col2, #T_f9450_row55_col1, #T_f9450_row58_col1, #T_f9450_row58_col2, #T_f9450_row61_col1, #T_f9450_row72_col1, #T_f9450_row76_col1, #T_f9450_row80_col2, #T_f9450_row85_col2, #T_f9450_row86_col2, #T_f9450_row91_col2, #T_f9450_row94_col1, #T_f9450_row94_col2, #T_f9450_row99_col1, #T_f9450_row99_col2, #T_f9450_row104_col1, #T_f9450_row104_col2, #T_f9450_row115_col2, #T_f9450_row116_col2, #T_f9450_row117_col1, #T_f9450_row118_col1, #T_f9450_row118_col2, #T_f9450_row120_col1, #T_f9450_row124_col1, #T_f9450_row124_col2, #T_f9450_row128_col2, #T_f9450_row129_col1, #T_f9450_row129_col2, #T_f9450_row137_col2, #T_f9450_row138_col2, #T_f9450_row141_col1, #T_f9450_row147_col1, #T_f9450_row147_col2, #T_f9450_row150_col1, #T_f9450_row152_col1, #T_f9450_row157_col2, #T_f9450_row158_col1, #T_f9450_row163_col2, #T_f9450_row177_col1, #T_f9450_row177_col2, #T_f9450_row181_col1, #T_f9450_row181_col2, #T_f9450_row182_col2, #T_f9450_row188_col2, #T_f9450_row190_col1, #T_f9450_row190_col2, #T_f9450_row193_col1, #T_f9450_row193_col2, #T_f9450_row197_col1, #T_f9450_row197_col2, #T_f9450_row203_col2, #T_f9450_row205_col1, #T_f9450_row205_col2, #T_f9450_row218_col2, #T_f9450_row224_col2, #T_f9450_row231_col1, #T_f9450_row235_col2, #T_f9450_row239_col2, #T_f9450_row242_col1, #T_f9450_row245_col1, #T_f9450_row246_col1, #T_f9450_row246_col2, #T_f9450_row247_col1, #T_f9450_row247_col2, #T_f9450_row266_col1, #T_f9450_row266_col2, #T_f9450_row267_col1, #T_f9450_row267_col2, #T_f9450_row278_col1 {\n",
              "  color: red;\n",
              "  text-align: left;\n",
              "}\n",
              "#T_f9450_row2_col2, #T_f9450_row7_col1, #T_f9450_row7_col2, #T_f9450_row9_col2, #T_f9450_row11_col1, #T_f9450_row12_col1, #T_f9450_row12_col2, #T_f9450_row16_col1, #T_f9450_row16_col2, #T_f9450_row22_col1, #T_f9450_row22_col2, #T_f9450_row23_col1, #T_f9450_row23_col2, #T_f9450_row25_col1, #T_f9450_row26_col2, #T_f9450_row31_col1, #T_f9450_row31_col2, #T_f9450_row32_col2, #T_f9450_row34_col1, #T_f9450_row35_col1, #T_f9450_row35_col2, #T_f9450_row39_col1, #T_f9450_row39_col2, #T_f9450_row43_col1, #T_f9450_row43_col2, #T_f9450_row44_col1, #T_f9450_row44_col2, #T_f9450_row48_col1, #T_f9450_row51_col2, #T_f9450_row52_col1, #T_f9450_row56_col1, #T_f9450_row56_col2, #T_f9450_row59_col1, #T_f9450_row59_col2, #T_f9450_row61_col2, #T_f9450_row62_col1, #T_f9450_row62_col2, #T_f9450_row63_col1, #T_f9450_row63_col2, #T_f9450_row65_col1, #T_f9450_row65_col2, #T_f9450_row67_col1, #T_f9450_row67_col2, #T_f9450_row69_col1, #T_f9450_row69_col2, #T_f9450_row72_col2, #T_f9450_row82_col1, #T_f9450_row82_col2, #T_f9450_row83_col1, #T_f9450_row83_col2, #T_f9450_row85_col1, #T_f9450_row86_col1, #T_f9450_row89_col1, #T_f9450_row89_col2, #T_f9450_row91_col1, #T_f9450_row92_col1, #T_f9450_row92_col2, #T_f9450_row93_col1, #T_f9450_row93_col2, #T_f9450_row97_col1, #T_f9450_row97_col2, #T_f9450_row115_col1, #T_f9450_row116_col1, #T_f9450_row121_col1, #T_f9450_row121_col2, #T_f9450_row126_col2, #T_f9450_row128_col1, #T_f9450_row130_col1, #T_f9450_row130_col2, #T_f9450_row133_col1, #T_f9450_row133_col2, #T_f9450_row134_col1, #T_f9450_row136_col1, #T_f9450_row136_col2, #T_f9450_row137_col1, #T_f9450_row138_col1, #T_f9450_row139_col1, #T_f9450_row139_col2, #T_f9450_row153_col1, #T_f9450_row153_col2, #T_f9450_row162_col1, #T_f9450_row162_col2, #T_f9450_row164_col1, #T_f9450_row166_col1, #T_f9450_row166_col2, #T_f9450_row171_col2, #T_f9450_row175_col1, #T_f9450_row175_col2, #T_f9450_row178_col1, #T_f9450_row178_col2, #T_f9450_row188_col1, #T_f9450_row192_col1, #T_f9450_row192_col2, #T_f9450_row195_col1, #T_f9450_row195_col2, #T_f9450_row196_col1, #T_f9450_row196_col2, #T_f9450_row199_col1, #T_f9450_row199_col2, #T_f9450_row203_col1, #T_f9450_row206_col1, #T_f9450_row206_col2, #T_f9450_row210_col1, #T_f9450_row210_col2, #T_f9450_row211_col1, #T_f9450_row211_col2, #T_f9450_row214_col1, #T_f9450_row214_col2, #T_f9450_row218_col1, #T_f9450_row221_col1, #T_f9450_row221_col2, #T_f9450_row222_col1, #T_f9450_row222_col2, #T_f9450_row223_col1, #T_f9450_row223_col2, #T_f9450_row224_col1, #T_f9450_row225_col1, #T_f9450_row225_col2, #T_f9450_row231_col2, #T_f9450_row232_col1, #T_f9450_row232_col2, #T_f9450_row235_col1, #T_f9450_row240_col1, #T_f9450_row240_col2, #T_f9450_row243_col1, #T_f9450_row243_col2, #T_f9450_row244_col1, #T_f9450_row244_col2, #T_f9450_row254_col1, #T_f9450_row254_col2, #T_f9450_row255_col1, #T_f9450_row255_col2, #T_f9450_row258_col2, #T_f9450_row261_col1, #T_f9450_row261_col2, #T_f9450_row262_col1, #T_f9450_row262_col2, #T_f9450_row263_col1, #T_f9450_row263_col2, #T_f9450_row265_col1, #T_f9450_row265_col2, #T_f9450_row268_col1, #T_f9450_row268_col2, #T_f9450_row270_col1, #T_f9450_row270_col2, #T_f9450_row273_col1, #T_f9450_row273_col2, #T_f9450_row277_col1, #T_f9450_row277_col2, #T_f9450_row278_col2 {\n",
              "  color: gray;\n",
              "  text-align: left;\n",
              "}\n",
              "#T_f9450_row3_col1, #T_f9450_row3_col2, #T_f9450_row21_col1, #T_f9450_row21_col2, #T_f9450_row27_col1, #T_f9450_row27_col2, #T_f9450_row33_col1, #T_f9450_row80_col1, #T_f9450_row103_col1, #T_f9450_row110_col1, #T_f9450_row110_col2, #T_f9450_row155_col1, #T_f9450_row164_col2, #T_f9450_row185_col1, #T_f9450_row229_col1, #T_f9450_row229_col2, #T_f9450_row239_col1, #T_f9450_row248_col1, #T_f9450_row248_col2, #T_f9450_row269_col1 {\n",
              "  color: green;\n",
              "  text-align: left;\n",
              "}\n",
              "#T_f9450_row18_col1, #T_f9450_row18_col2, #T_f9450_row24_col1, #T_f9450_row29_col1, #T_f9450_row42_col1, #T_f9450_row42_col2, #T_f9450_row51_col1, #T_f9450_row71_col1, #T_f9450_row71_col2, #T_f9450_row77_col2, #T_f9450_row107_col1, #T_f9450_row120_col2, #T_f9450_row135_col1, #T_f9450_row142_col1, #T_f9450_row145_col1, #T_f9450_row149_col1, #T_f9450_row151_col1, #T_f9450_row157_col1, #T_f9450_row167_col1, #T_f9450_row167_col2, #T_f9450_row183_col1, #T_f9450_row183_col2, #T_f9450_row194_col1, #T_f9450_row194_col2, #T_f9450_row198_col1, #T_f9450_row215_col1, #T_f9450_row215_col2, #T_f9450_row220_col1, #T_f9450_row253_col1, #T_f9450_row253_col2 {\n",
              "  color: blue;\n",
              "  text-align: left;\n",
              "}\n",
              "</style>\n",
              "<table id=\"T_f9450\">\n",
              "  <thead>\n",
              "    <tr>\n",
              "      <th class=\"blank level0\" >&nbsp;</th>\n",
              "      <th id=\"T_f9450_level0_col0\" class=\"col_heading level0 col0\" >Text</th>\n",
              "      <th id=\"T_f9450_level0_col1\" class=\"col_heading level0 col1\" >True category</th>\n",
              "      <th id=\"T_f9450_level0_col2\" class=\"col_heading level0 col2\" >Predicted category</th>\n",
              "    </tr>\n",
              "  </thead>\n",
              "  <tbody>\n",
              "    <tr>\n",
              "      <th id=\"T_f9450_level0_row0\" class=\"row_heading level0 row0\" >0</th>\n",
              "      <td id=\"T_f9450_row0_col0\" class=\"data row0 col0\" >i have a lot of canned goods and some clothing , but i can also buy and bring things as needed . please let me know what you need most .</td>\n",
              "      <td id=\"T_f9450_row0_col1\" class=\"data row0 col1\" >Food</td>\n",
              "      <td id=\"T_f9450_row0_col2\" class=\"data row0 col2\" >Food</td>\n",
              "    </tr>\n",
              "    <tr>\n",
              "      <th id=\"T_f9450_level0_row1\" class=\"row_heading level0 row1\" >1</th>\n",
              "      <td id=\"T_f9450_row1_col0\" class=\"data row1 col0\" >how the * * * * am i supposed to get @ meekmill new album when i ai n't got power ? * * * * outaaa here sandy !</td>\n",
              "      <td id=\"T_f9450_row1_col1\" class=\"data row1 col1\" >Energy</td>\n",
              "      <td id=\"T_f9450_row1_col2\" class=\"data row1 col2\" >Energy</td>\n",
              "    </tr>\n",
              "    <tr>\n",
              "      <th id=\"T_f9450_level0_row2\" class=\"row_heading level0 row2\" >2</th>\n",
              "      <td id=\"T_f9450_row2_col0\" class=\"data row2 col0\" >frankenstorm wo n't stop the bean ! thx for staying open for the neighbors who need coffee and treat ! ( @ the bean ) http : //t.co/zw7oa0tq</td>\n",
              "      <td id=\"T_f9450_row2_col1\" class=\"data row2 col1\" >Food</td>\n",
              "      <td id=\"T_f9450_row2_col2\" class=\"data row2 col2\" >None</td>\n",
              "    </tr>\n",
              "    <tr>\n",
              "      <th id=\"T_f9450_level0_row3\" class=\"row_heading level0 row3\" >3</th>\n",
              "      <td id=\"T_f9450_row3_col0\" class=\"data row3 col0\" >deodorant toothpaste shampoo/conditioner baby shampoo kids toothbrush bar soap mouth wash q-tips painkillers</td>\n",
              "      <td id=\"T_f9450_row3_col1\" class=\"data row3 col1\" >Medical</td>\n",
              "      <td id=\"T_f9450_row3_col2\" class=\"data row3 col2\" >Medical</td>\n",
              "    </tr>\n",
              "    <tr>\n",
              "      <th id=\"T_f9450_level0_row4\" class=\"row_heading level0 row4\" >4</th>\n",
              "      <td id=\"T_f9450_row4_col0\" class=\"data row4 col0\" >clothes for baby kids woman men , food , non perishable food , tools , toys , paper , furniture , any products ,</td>\n",
              "      <td id=\"T_f9450_row4_col1\" class=\"data row4 col1\" >Food</td>\n",
              "      <td id=\"T_f9450_row4_col2\" class=\"data row4 col2\" >Food</td>\n",
              "    </tr>\n",
              "    <tr>\n",
              "      <th id=\"T_f9450_level0_row5\" class=\"row_heading level0 row5\" >5</th>\n",
              "      <td id=\"T_f9450_row5_col0\" class=\"data row5 col0\" >i have blankets , socks , non perishables , baby wipes , diapers</td>\n",
              "      <td id=\"T_f9450_row5_col1\" class=\"data row5 col1\" >Food</td>\n",
              "      <td id=\"T_f9450_row5_col2\" class=\"data row5 col2\" >Food</td>\n",
              "    </tr>\n",
              "    <tr>\n",
              "      <th id=\"T_f9450_level0_row6\" class=\"row_heading level0 row6\" >6</th>\n",
              "      <td id=\"T_f9450_row6_col0\" class=\"data row6 col0\" >i can bring some clothing , non perishables , hygiene products and some baby supplies</td>\n",
              "      <td id=\"T_f9450_row6_col1\" class=\"data row6 col1\" >Food</td>\n",
              "      <td id=\"T_f9450_row6_col2\" class=\"data row6 col2\" >Food</td>\n",
              "    </tr>\n",
              "    <tr>\n",
              "      <th id=\"T_f9450_level0_row7\" class=\"row_heading level0 row7\" >7</th>\n",
              "      <td id=\"T_f9450_row7_col0\" class=\"data row7 col0\" >oyster creek power plant is on alert for flooding ... . it 's about 80 miles away . great . # sandy</td>\n",
              "      <td id=\"T_f9450_row7_col1\" class=\"data row7 col1\" >None</td>\n",
              "      <td id=\"T_f9450_row7_col2\" class=\"data row7 col2\" >None</td>\n",
              "    </tr>\n",
              "    <tr>\n",
              "      <th id=\"T_f9450_level0_row8\" class=\"row_heading level0 row8\" >8</th>\n",
              "      <td id=\"T_f9450_row8_col0\" class=\"data row8 col0\" >nonperishable food hygiene products temporary shelter</td>\n",
              "      <td id=\"T_f9450_row8_col1\" class=\"data row8 col1\" >Food</td>\n",
              "      <td id=\"T_f9450_row8_col2\" class=\"data row8 col2\" >Food</td>\n",
              "    </tr>\n",
              "    <tr>\n",
              "      <th id=\"T_f9450_level0_row9\" class=\"row_heading level0 row9\" >9</th>\n",
              "      <td id=\"T_f9450_row9_col0\" class=\"data row9 col0\" >soo it 's almost 2 am and people are still waiting on that line to get gas .. it 's the shortest line i 've seen though -__- # gas # sandy # nyc</td>\n",
              "      <td id=\"T_f9450_row9_col1\" class=\"data row9 col1\" >Energy</td>\n",
              "      <td id=\"T_f9450_row9_col2\" class=\"data row9 col2\" >None</td>\n",
              "    </tr>\n",
              "    <tr>\n",
              "      <th id=\"T_f9450_level0_row10\" class=\"row_heading level0 row10\" >10</th>\n",
              "      <td id=\"T_f9450_row10_col0\" class=\"data row10 col0\" >i tried to send this already but do not think it went through so i am retyping a shorthand version and resending : i selected `` other `` because it is a lot of different items : hygiene : feminine products , wash cloths , soap cleaning : rags , bucket , paper towels , gloves clothing : mens- basics , warm , underwear womens- basics , warm , bras , robes unisex- gloves , scarves kids- basics house : bedding , pillows , cooking utensils , some plastic forks food : oatmeal , canned goods , beverages</td>\n",
              "      <td id=\"T_f9450_row10_col1\" class=\"data row10 col1\" >Food</td>\n",
              "      <td id=\"T_f9450_row10_col2\" class=\"data row10 col2\" >Food</td>\n",
              "    </tr>\n",
              "    <tr>\n",
              "      <th id=\"T_f9450_level0_row11\" class=\"row_heading level0 row11\" >11</th>\n",
              "      <td id=\"T_f9450_row11_col0\" class=\"data row11 col0\" >will be there feb 3 sunday 10 - 4 pm for demo or data entry</td>\n",
              "      <td id=\"T_f9450_row11_col1\" class=\"data row11 col1\" >None</td>\n",
              "      <td id=\"T_f9450_row11_col2\" class=\"data row11 col2\" >Food</td>\n",
              "    </tr>\n",
              "    <tr>\n",
              "      <th id=\"T_f9450_level0_row12\" class=\"row_heading level0 row12\" >12</th>\n",
              "      <td id=\"T_f9450_row12_col0\" class=\"data row12 col0\" >victor + food = ill be set during this hurricane</td>\n",
              "      <td id=\"T_f9450_row12_col1\" class=\"data row12 col1\" >None</td>\n",
              "      <td id=\"T_f9450_row12_col2\" class=\"data row12 col2\" >None</td>\n",
              "    </tr>\n",
              "    <tr>\n",
              "      <th id=\"T_f9450_level0_row13\" class=\"row_heading level0 row13\" >13</th>\n",
              "      <td id=\"T_f9450_row13_col0\" class=\"data row13 col0\" >send an email to * * * * * * * * * * * * * * * * to donate comforter to * * * * * * * * . * * * * * * * * * * * * * * * * * * * * * * * * * ) had offered to donate non-perishable food , blanket and clothing .</td>\n",
              "      <td id=\"T_f9450_row13_col1\" class=\"data row13 col1\" >Food</td>\n",
              "      <td id=\"T_f9450_row13_col2\" class=\"data row13 col2\" >Food</td>\n",
              "    </tr>\n",
