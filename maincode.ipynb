{
  "nbformat": 4,
  "nbformat_minor": 0,
  "metadata": {
    "anaconda-cloud": {},
    "colab": {
      "provenance": []
    },
    "kernelspec": {
      "display_name": "Python_torch",
      "language": "python",
      "name": "pytorch36"
    },
    "language_info": {
      "codemirror_mode": {
        "name": "ipython",
        "version": 3
      },
      "file_extension": ".py",
      "mimetype": "text/x-python",
      "name": "python",
      "nbconvert_exporter": "python",
      "pygments_lexer": "ipython3",
      "version": "3.6.7"
    }
  },
  "cells": [
    {
      "cell_type": "code",
      "metadata": {
        "id": "p2-CSlkmNluw"
      },
      "source": [
        "# Run this every time you open the spreadsheet\n",
        "%load_ext autoreload\n",
        "%autoreload 2"
      ],
      "execution_count": null,
      "outputs": []
    },
    {
      "cell_type": "code",
      "metadata": {
        "id": "I5xo73cmIGNj",
        "colab": {
          "base_uri": "https://localhost:8080/"
        },
        "outputId": "b5f399eb-771a-4b30-d204-11c3e0836daa"
      },
      "source": [
        "! git clone https://github.com/heyyjudes/AI4ALL2021-NLP.git\n",
        "! mv AI4ALL2021-NLP/data .\n",
        "! mv AI4ALL2021-NLP/lib ."
      ],
      "execution_count": null,
      "outputs": [
        {
          "output_type": "stream",
          "name": "stdout",
          "text": [
            "Cloning into 'AI4ALL2021-NLP'...\n",
            "remote: Enumerating objects: 791, done.\u001b[K\n",
            "remote: Counting objects: 100% (294/294), done.\u001b[K\n",
            "remote: Compressing objects: 100% (159/159), done.\u001b[K\n",
            "remote: Total 791 (delta 134), reused 287 (delta 130), pack-reused 497\u001b[K\n",
            "Receiving objects: 100% (791/791), 53.14 MiB | 20.54 MiB/s, done.\n",
            "Resolving deltas: 100% (408/408), done.\n"
          ]
        }
      ]
    },
    {
      "cell_type": "markdown",
      "metadata": {
        "id": "bVz4p5rpBcok"
      },
      "source": [
        "Run the following cell to import our own lib module."
      ]
    },
    {
      "cell_type": "code",
      "metadata": {
        "id": "qBiqEPWGBSYF",
        "colab": {
          "base_uri": "https://localhost:8080/"
        },
        "outputId": "41e6525d-a2d9-4496-b427-8be61f095bd2"
      },
      "source": [
        "from lib.lib import *"
      ],
      "execution_count": null,
      "outputs": [
        {
          "output_type": "stream",
          "name": "stderr",
          "text": [
            "[nltk_data] Downloading package punkt to /root/nltk_data...\n",
            "[nltk_data]   Unzipping tokenizers/punkt.zip.\n"
          ]
        }
      ]
    },
